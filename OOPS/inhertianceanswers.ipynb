{
 "cells": [
  {
   "cell_type": "markdown",
   "metadata": {},
   "source": [
    "## Assignment 1: Single Inheritance Basic"
   ]
  },
  {
   "cell_type": "code",
   "execution_count": 1,
   "metadata": {},
   "outputs": [],
   "source": [
    "class Animal:\n",
    "    def __init__(self, name, species) -> None:\n",
    "        self.name = name\n",
    "        self.species = species\n",
    "\n",
    "class Dog(Animal):\n",
    "    def __init__(self, name, species, breed) -> None:\n",
    "        super().__init__(name, species)\n",
    "        self.breed = breed\n",
    "\n",
    "pibu = Dog(\"Pibu\", \"Canine\", \"pitbull\")"
   ]
  },
  {
   "cell_type": "code",
   "execution_count": 2,
   "metadata": {},
   "outputs": [
    {
     "name": "stdout",
     "output_type": "stream",
     "text": [
      "Pibu pitbull Canine\n"
     ]
    }
   ],
   "source": [
    "print(pibu.name, pibu.breed, pibu.species)"
   ]
  },
  {
   "cell_type": "markdown",
   "metadata": {},
   "source": [
    "## Assignment 2: Method Overriding in Single Inheritance"
   ]
  },
  {
   "cell_type": "code",
   "execution_count": 3,
   "metadata": {},
   "outputs": [],
   "source": [
    "class Animal:\n",
    "    def __init__(self, name, species) -> None:\n",
    "        self.name = name\n",
    "        self.species = species\n",
    "\n",
    "class Dog(Animal):\n",
    "    def __init__(self, name, species, breed) -> None:\n",
    "        super().__init__(name, species)\n",
    "        self.breed = breed\n",
    "\n",
    "    def __str__(self) -> str:\n",
    "        return f\"Dog:- Dog Name :- {self.name}, Dog Species:- {self.species}, Dog breed:- {self.breed}\"\n",
    "\n",
    "pibu = Dog(\"Pibu\", \"Canine\", \"pitbull\")"
   ]
  },
  {
   "cell_type": "code",
   "execution_count": 4,
   "metadata": {},
   "outputs": [
    {
     "name": "stdout",
     "output_type": "stream",
     "text": [
      "Dog:- Dog Name :- Pibu, Dog Species:- Canine, Dog breed:- pitbull\n"
     ]
    }
   ],
   "source": [
    "print(pibu)"
   ]
  },
  {
   "cell_type": "markdown",
   "metadata": {},
   "source": [
    "## Assignment 3: Single Inheritance with Additional Methods"
   ]
  },
  {
   "cell_type": "code",
   "execution_count": 5,
   "metadata": {},
   "outputs": [],
   "source": [
    "class Animal:\n",
    "    def __init__(self, name, species) -> None:\n",
    "        self.name = name\n",
    "        self.species = species\n",
    "\n",
    "class Dog(Animal):\n",
    "    def __init__(self, name, species, breed) -> None:\n",
    "        super().__init__(name, species)\n",
    "        self.breed = breed\n",
    "\n",
    "    def __str__(self) -> str:\n",
    "        return f\"Dog:- Dog Name :- {self.name}, Dog Species:- {self.species}, Dog breed:- {self.breed}\"\n",
    "    \n",
    "    def bark(self):\n",
    "        return \"woof\"\n",
    "\n",
    "pibu = Dog(\"Pibu\", \"Canine\", \"pitbull\")"
   ]
  },
  {
   "cell_type": "code",
   "execution_count": 6,
   "metadata": {},
   "outputs": [
    {
     "data": {
      "text/plain": [
       "'woof'"
      ]
     },
     "execution_count": 6,
     "metadata": {},
     "output_type": "execute_result"
    }
   ],
   "source": [
    "pibu.bark()"
   ]
  },
  {
   "cell_type": "markdown",
   "metadata": {},
   "source": [
    "## Assignment 4: Multiple Inheritance Basic"
   ]
  },
  {
   "cell_type": "code",
   "execution_count": 7,
   "metadata": {},
   "outputs": [],
   "source": [
    "class Walker:\n",
    "    def __init__(self) -> None:\n",
    "        pass\n",
    "\n",
    "    def walk(self):\n",
    "        return \"Lets Walk\"\n",
    "\n",
    "class Runner:\n",
    "    def __init__(self) -> None:\n",
    "        pass\n",
    "\n",
    "    def run(self):\n",
    "        return \"Lets Run\"\n",
    "\n",
    "class Athlete(Walker, Runner):\n",
    "    def __init__(self) -> None:\n",
    "        super().__init__()\n",
    "        pass\n",
    "\n",
    "\n",
    "bolt = Athlete()  "
   ]
  },
  {
   "cell_type": "code",
   "execution_count": 8,
   "metadata": {},
   "outputs": [
    {
     "data": {
      "text/plain": [
       "'Lets Walk'"
      ]
     },
     "execution_count": 8,
     "metadata": {},
     "output_type": "execute_result"
    }
   ],
   "source": [
    "bolt.walk()"
   ]
  },
  {
   "cell_type": "code",
   "execution_count": 9,
   "metadata": {},
   "outputs": [
    {
     "data": {
      "text/plain": [
       "'Lets Run'"
      ]
     },
     "execution_count": 9,
     "metadata": {},
     "output_type": "execute_result"
    }
   ],
   "source": [
    "bolt.run()"
   ]
  },
  {
   "cell_type": "markdown",
   "metadata": {},
   "source": [
    "## Assignment 5: Method Resolution Order (MRO) in Multiple Inheritance"
   ]
  },
  {
   "cell_type": "code",
   "execution_count": 13,
   "metadata": {},
   "outputs": [],
   "source": [
    "class Walker:\n",
    "    def __init__(self) -> None:\n",
    "        pass\n",
    "\n",
    "    def walk(self):\n",
    "        print(\"Lets Walk\")\n",
    "\n",
    "class Runner:\n",
    "    def __init__(self) -> None:\n",
    "        pass\n",
    "\n",
    "    def run(self):\n",
    "        return \"Lets Run\"\n",
    "\n",
    "class Athlete(Walker, Runner):\n",
    "    def __init__(self) -> None:\n",
    "        super().__init__()\n",
    "        pass\n",
    "    \n",
    "    def walk(self):\n",
    "        print(\"Athlete is walking\")\n",
    "        super().walk()\n",
    "\n",
    "\n",
    "bolt = Athlete()"
   ]
  },
  {
   "cell_type": "code",
   "execution_count": 14,
   "metadata": {},
   "outputs": [
    {
     "name": "stdout",
     "output_type": "stream",
     "text": [
      "Athlete is walking\n",
      "Lets Walk\n"
     ]
    }
   ],
   "source": [
    "bolt.walk()"
   ]
  },
  {
   "cell_type": "markdown",
   "metadata": {},
   "source": [
    "## Assignment 6: Multiple Inheritance with Additional Attributes"
   ]
  },
  {
   "cell_type": "code",
   "execution_count": 15,
   "metadata": {},
   "outputs": [],
   "source": [
    "class Walker:\n",
    "    def __init__(self) -> None:\n",
    "        pass\n",
    "\n",
    "    def walk(self):\n",
    "        return \"Lets Walk\"\n",
    "\n",
    "class Runner:\n",
    "    def __init__(self) -> None:\n",
    "        pass\n",
    "\n",
    "    def run(self):\n",
    "        return \"Lets Run\"\n",
    "\n",
    "class Athlete(Walker, Runner):\n",
    "    def __init__(self, training_hours = 0) -> None:\n",
    "        super().__init__()\n",
    "        self.training_hours = training_hours\n",
    "    \n",
    "    def train(self):\n",
    "        print(self.training_hours)\n",
    "\n",
    "bolt = Athlete(5)"
   ]
  },
  {
   "cell_type": "code",
   "execution_count": 16,
   "metadata": {},
   "outputs": [
    {
     "name": "stdout",
     "output_type": "stream",
     "text": [
      "5\n"
     ]
    }
   ],
   "source": [
    "bolt.train()"
   ]
  },
  {
   "cell_type": "markdown",
   "metadata": {},
   "source": [
    "## Assignment 7: Diamond Problem in Multiple Inheritance"
   ]
  },
  {
   "cell_type": "code",
   "execution_count": 27,
   "metadata": {},
   "outputs": [],
   "source": [
    "class A:\n",
    "    def __init__(self) -> None:\n",
    "        pass\n",
    "    def show(self):\n",
    "        print(\"A\")\n",
    "\n",
    "class B(A):\n",
    "    def __init__(self) -> None:\n",
    "        super().__init__()\n",
    "        pass\n",
    "    def show(self):\n",
    "        print(\"B\")\n",
    "\n",
    "class C(A):\n",
    "    def __init__(self) -> None:\n",
    "        super().__init__()\n",
    "        pass\n",
    "    def show(self):\n",
    "        print(\"C\")\n",
    "    \n",
    "\n",
    "\n",
    "class D(B,C):\n",
    "    def __init__(self) -> None:\n",
    "        super().__init__()\n",
    "    \n",
    "d = D()"
   ]
  },
  {
   "cell_type": "code",
   "execution_count": 28,
   "metadata": {},
   "outputs": [
    {
     "name": "stdout",
     "output_type": "stream",
     "text": [
      "B\n"
     ]
    }
   ],
   "source": [
    "d.show()"
   ]
  },
  {
   "cell_type": "code",
   "execution_count": 29,
   "metadata": {},
   "outputs": [
    {
     "data": {
      "text/plain": [
       "[__main__.D, __main__.B, __main__.C, __main__.A, object]"
      ]
     },
     "execution_count": 29,
     "metadata": {},
     "output_type": "execute_result"
    }
   ],
   "source": [
    "D.mro()"
   ]
  },
  {
   "cell_type": "markdown",
   "metadata": {},
   "source": [
    "## Assignment 8: Using `super()` in Single Inheritance"
   ]
  },
  {
   "cell_type": "code",
   "execution_count": 30,
   "metadata": {},
   "outputs": [],
   "source": [
    "class Shape:\n",
    "    def __init__(self, color) -> None:\n",
    "        self.color = color\n",
    "\n",
    "class Circle(Shape):\n",
    "    def __init__(self, color, radius) -> None:\n",
    "        super().__init__(color)\n",
    "        self.radius = radius\n",
    "\n",
    "gola = Circle(\"red\", 5)"
   ]
  },
  {
   "cell_type": "code",
   "execution_count": 31,
   "metadata": {},
   "outputs": [
    {
     "name": "stdout",
     "output_type": "stream",
     "text": [
      "red 5\n"
     ]
    }
   ],
   "source": [
    "print(gola.color, gola.radius)"
   ]
  },
  {
   "cell_type": "markdown",
   "metadata": {},
   "source": [
    "## Assignment 9: Using `super()` in Multiple Inheritance"
   ]
  },
  {
   "cell_type": "code",
   "execution_count": 33,
   "metadata": {},
   "outputs": [],
   "source": [
    "class Person:\n",
    "    def __init__(self, name):\n",
    "        self.name = name\n",
    "    \n",
    "class Employee:\n",
    "    def __init__(self, employee_id):\n",
    "        self.employee_id = employee_id\n",
    "\n",
    "class Manager(Person, Employee):\n",
    "    def __init__(self, name, employee_id):\n",
    "        super().__init__(name)\n",
    "        Employee.__init__(self,employee_id)\n",
    "\n",
    "laha = Manager(\"Laha\", \"123\")"
   ]
  },
  {
   "cell_type": "code",
   "execution_count": 34,
   "metadata": {},
   "outputs": [
    {
     "name": "stdout",
     "output_type": "stream",
     "text": [
      "Laha 123\n"
     ]
    }
   ],
   "source": [
    "print(laha.name, laha.employee_id)"
   ]
  },
  {
   "cell_type": "markdown",
   "metadata": {},
   "source": [
    "## Assignment 10: Method Overriding and `super()`"
   ]
  },
  {
   "cell_type": "code",
   "execution_count": 35,
   "metadata": {},
   "outputs": [],
   "source": [
    "class Vehicle:\n",
    "    def __init__(self) -> None:\n",
    "        pass\n",
    "    def start(self):\n",
    "        print(\"start vehicle\")\n",
    "\n",
    "class Car(Vehicle):\n",
    "    def __init__(self) -> None:\n",
    "        super().__init__()\n",
    "    def start(self):\n",
    "        print(\"Start car\")\n",
    "        super().start()\n",
    "\n",
    "r8 = Car()"
   ]
  },
  {
   "cell_type": "code",
   "execution_count": 36,
   "metadata": {},
   "outputs": [
    {
     "name": "stdout",
     "output_type": "stream",
     "text": [
      "Start car\n",
      "start vehicle\n"
     ]
    }
   ],
   "source": [
    "r8.start()"
   ]
  },
  {
   "cell_type": "markdown",
   "metadata": {},
   "source": [
    "## Assignment 11: Multiple Inheritance with Different Methods"
   ]
  },
  {
   "cell_type": "code",
   "execution_count": 37,
   "metadata": {},
   "outputs": [],
   "source": [
    "class Flyer:\n",
    "    def __init__(self) -> None:\n",
    "        pass\n",
    "    def fly(self):\n",
    "        print(\"flying\")\n",
    "\n",
    "class Swimmer:\n",
    "    def __init__(self) -> None:\n",
    "        pass\n",
    "    def swim(self):\n",
    "        print(\"swimming\")\n",
    "\n",
    "class Superhero(Flyer, Swimmer):\n",
    "    pass\n",
    "\n",
    "homelander = Superhero()"
   ]
  },
  {
   "cell_type": "code",
   "execution_count": 38,
   "metadata": {},
   "outputs": [
    {
     "name": "stdout",
     "output_type": "stream",
     "text": [
      "flying\n"
     ]
    }
   ],
   "source": [
    "homelander.fly()"
   ]
  },
  {
   "cell_type": "code",
   "execution_count": 39,
   "metadata": {},
   "outputs": [
    {
     "name": "stdout",
     "output_type": "stream",
     "text": [
      "swimming\n"
     ]
    }
   ],
   "source": [
    "homelander.swim()"
   ]
  },
  {
   "cell_type": "markdown",
   "metadata": {},
   "source": [
    "## Assignment 12: Complex Multiple Inheritance"
   ]
  },
  {
   "cell_type": "code",
   "execution_count": 40,
   "metadata": {},
   "outputs": [],
   "source": [
    "class Base1:\n",
    "    def __init__(self, a) -> None:\n",
    "        self.a = a\n",
    "\n",
    "class Base2:\n",
    "    def __init__(self, b) -> None:\n",
    "        self.b = b\n",
    "\n",
    "class Derived(Base1, Base2):\n",
    "    def __init__(self, a, b, c) -> None:\n",
    "        super().__init__(a)\n",
    "        Base2.__init__(self,b)\n",
    "        self.c = c\n",
    "\n",
    "derive = Derived(1,2,3)"
   ]
  },
  {
   "cell_type": "code",
   "execution_count": 41,
   "metadata": {},
   "outputs": [
    {
     "name": "stdout",
     "output_type": "stream",
     "text": [
      "1 2 3\n"
     ]
    }
   ],
   "source": [
    "print(derive.a, derive.b, derive.c)"
   ]
  },
  {
   "cell_type": "markdown",
   "metadata": {},
   "source": [
    "## Assignment 13: Checking Instance Types with Inheritance"
   ]
  },
  {
   "cell_type": "code",
   "execution_count": 42,
   "metadata": {},
   "outputs": [
    {
     "name": "stdout",
     "output_type": "stream",
     "text": [
      "True\n",
      "True\n",
      "True\n",
      "False\n"
     ]
    }
   ],
   "source": [
    "class Animal:\n",
    "    def __init__(self) -> None:\n",
    "        pass\n",
    "class Cat(Animal):\n",
    "    def __init__(self) -> None:\n",
    "        super().__init__()\n",
    "\n",
    "animal = Animal()\n",
    "cat = Cat()\n",
    "print(isinstance(animal, Animal))  # True\n",
    "print(isinstance(cat, Animal))  # True\n",
    "print(isinstance(cat, Cat))  # True\n",
    "print(isinstance(animal, Cat))  # False"
   ]
  },
  {
   "cell_type": "markdown",
   "metadata": {},
   "source": [
    "## Assignment 14: Polymorphism with Inheritance"
   ]
  },
  {
   "cell_type": "code",
   "execution_count": 43,
   "metadata": {},
   "outputs": [
    {
     "name": "stdout",
     "output_type": "stream",
     "text": [
      "coos\n",
      "pankhu\n"
     ]
    }
   ],
   "source": [
    "class Bird:\n",
    "    def __init__(self) -> None:\n",
    "        pass\n",
    "    def speak(self):\n",
    "        print(\"chirp\")\n",
    "class Parrot(Bird):\n",
    "    def __init__(self) -> None:\n",
    "        super().__init__()\n",
    "    def speak(self):\n",
    "        print(\"coos\")\n",
    "class Penguin(Bird):\n",
    "    def __init__(self) -> None:\n",
    "        super().__init__()\n",
    "    def speak(self):\n",
    "        print(\"pankhu\")\n",
    "\n",
    "birds = [Parrot(), Penguin()]\n",
    "for bird in birds:\n",
    "    bird.speak()\n"
   ]
  },
  {
   "cell_type": "markdown",
   "metadata": {},
   "source": [
    "## Assignment 15: Combining Single and Multiple Inheritance"
   ]
  },
  {
   "cell_type": "code",
   "execution_count": 44,
   "metadata": {},
   "outputs": [],
   "source": [
    "class Device:\n",
    "    def __init__(self, brand) -> None:\n",
    "        self.brand = brand\n",
    "\n",
    "class Phone(Device):\n",
    "    def __init__(self, brand, model) -> None:\n",
    "        super().__init__(brand)\n",
    "        self.model = model\n",
    "\n",
    "class Camera:\n",
    "    def __init__(self, resolution) -> None:\n",
    "        self.resolution = resolution\n",
    "\n",
    "class Smartphone(Phone, Camera):\n",
    "    def __init__(self, brand, model, resolution) -> None:\n",
    "        super().__init__(brand, model)\n",
    "        Camera.__init__(self, resolution)\n",
    "\n",
    "pixel = Smartphone(\"Google\", 9, \"50 mp\")\n",
    "    "
   ]
  },
  {
   "cell_type": "code",
   "execution_count": 45,
   "metadata": {},
   "outputs": [
    {
     "name": "stdout",
     "output_type": "stream",
     "text": [
      "Google 9 50 mp\n"
     ]
    }
   ],
   "source": [
    "print(pixel.brand, pixel.model, pixel.resolution)"
   ]
  }
 ],
 "metadata": {
  "kernelspec": {
   "display_name": "Python 3",
   "language": "python",
   "name": "python3"
  },
  "language_info": {
   "codemirror_mode": {
    "name": "ipython",
    "version": 3
   },
   "file_extension": ".py",
   "mimetype": "text/x-python",
   "name": "python",
   "nbconvert_exporter": "python",
   "pygments_lexer": "ipython3",
   "version": "3.12.2"
  }
 },
 "nbformat": 4,
 "nbformat_minor": 2
}
