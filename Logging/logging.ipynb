{
 "cells": [
  {
   "cell_type": "code",
   "execution_count": 1,
   "id": "184e7434",
   "metadata": {},
   "outputs": [],
   "source": [
    "import logging\n",
    "\n",
    "#  configure Logging\n",
    "logging.basicConfig(\n",
    "    # setting the level to DEBUG will capture all levels of logs\n",
    "    # including DEBUG, INFO, WARNING, ERROR, and CRITICAL\n",
    "    # setting level to WARNINGS will only capture WARNING, ERROR, and CRITICAL\n",
    "    # setting level to ERROR will only capture ERROR and CRITICAL\n",
    "    # setting level to CRITICAL will only capture CRITICAL\n",
    "    level = logging.DEBUG,\n",
    "    format = '%(asctime)s-%(name)s-%(levelname)s-%(message)s',\n",
    "    datefmt = '%Y-%m-%d %H:%M:%S',\n",
    "    filename= 'logfile.log',\n",
    "    filemode = 'w'  # 'w' to overwrite the file, 'a' to append to the file\n",
    ")\n",
    "\n",
    "# log messages with different severity levels\n",
    "logging.debug(\"This is a mseesage at the DEBUG level\")\n",
    "logging.info(\"This is message at the info level\")\n",
    "logging.warning(\"this is a message at the warning level\")\n",
    "logging.error(\"This is a message at the error level\")\n",
    "logging.critical(\"This is a message at the critical level\")"
   ]
  }
 ],
 "metadata": {
  "kernelspec": {
   "display_name": "Python 3",
   "language": "python",
   "name": "python3"
  },
  "language_info": {
   "codemirror_mode": {
    "name": "ipython",
    "version": 3
   },
   "file_extension": ".py",
   "mimetype": "text/x-python",
   "name": "python",
   "nbconvert_exporter": "python",
   "pygments_lexer": "ipython3",
   "version": "3.13.3"
  }
 },
 "nbformat": 4,
 "nbformat_minor": 5
}
