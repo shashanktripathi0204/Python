{
 "cells": [
  {
   "cell_type": "markdown",
   "id": "43d8f077",
   "metadata": {},
   "source": [
    "### You can create multiple logger for different parts of your application\n"
   ]
  },
  {
   "cell_type": "code",
   "execution_count": 3,
   "id": "5f579f2b",
   "metadata": {},
   "outputs": [],
   "source": [
    "import logging\n",
    "# create a logger for module 1\n",
    "logger1 = logging.getLogger('module1')\n",
    "logger1.setLevel(logging.DEBUG)\n",
    "\n",
    "# create a logger for module 2\n",
    "logger2 = logging.getLogger('module2')\n",
    "logger2.setLevel(logging.WARNING)\n",
    "\n",
    "logging.basicConfig(\n",
    "    level = logging.DEBUG,\n",
    "    format = '%(asctime)s - %(name)s - %(levelname)s - %(message)s',\n",
    "    datefmt = '%Y-%m-%d %H:%M:%S'\n",
    ")"
   ]
  },
  {
   "cell_type": "code",
   "execution_count": 4,
   "id": "d7a8dbc2",
   "metadata": {},
   "outputs": [
    {
     "name": "stderr",
     "output_type": "stream",
     "text": [
      "2025-07-03 17:36:32 - module1 - DEBUG - This is a debug message from module 1\n",
      "2025-07-03 17:36:32 - module1 - INFO - This is an info message from module 1\n",
      "2025-07-03 17:36:32 - module1 - WARNING - This is a warning message from module 1\n",
      "2025-07-03 17:36:32 - module1 - ERROR - This is an error message from module 1\n",
      "2025-07-03 17:36:32 - module1 - CRITICAL - This is a critical message from module 1\n",
      "2025-07-03 17:36:32 - module2 - WARNING - This is a warning message from module 2\n",
      "2025-07-03 17:36:32 - module2 - ERROR - This is an error message from module 2\n",
      "2025-07-03 17:36:32 - module2 - CRITICAL - This is a critical message from module 2\n"
     ]
    }
   ],
   "source": [
    "logger1.debug('This is a debug message from module 1')\n",
    "logger1.info('This is an info message from module 1')\n",
    "logger1.warning('This is a warning message from module 1')\n",
    "logger1.error('This is an error message from module 1')\n",
    "logger1.critical('This is a critical message from module 1')\n",
    "\n",
    "logger2.debug('This is a debug message from module 2')\n",
    "logger2.info('This is an info message from module 2')\n",
    "logger2.warning('This is a warning message from module 2')\n",
    "logger2.error('This is an error message from module 2')\n",
    "logger2.critical('This is a critical message from module 2')\n"
   ]
  }
 ],
 "metadata": {
  "kernelspec": {
   "display_name": "Python 3",
   "language": "python",
   "name": "python3"
  },
  "language_info": {
   "codemirror_mode": {
    "name": "ipython",
    "version": 3
   },
   "file_extension": ".py",
   "mimetype": "text/x-python",
   "name": "python",
   "nbconvert_exporter": "python",
   "pygments_lexer": "ipython3",
   "version": "3.13.3"
  }
 },
 "nbformat": 4,
 "nbformat_minor": 5
}
