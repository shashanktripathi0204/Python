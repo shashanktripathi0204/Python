{
 "cells": [
  {
   "cell_type": "markdown",
   "metadata": {},
   "source": [
    "# Assignment 1: Custom Iterator"
   ]
  },
  {
   "cell_type": "code",
   "execution_count": 1,
   "metadata": {},
   "outputs": [],
   "source": [
    "class Countdown:\n",
    "    def __init__(self, start) -> None:\n",
    "        self.current = start\n",
    "    \n",
    "    def __iter__(self):\n",
    "        return self  # Returns the iterator object itself\n",
    "\n",
    "    def __next__(self):\n",
    "        if self.current < 0:\n",
    "            raise StopIteration  # Signals the end of iteration\n",
    "        else:\n",
    "            current = self.current\n",
    "            self.current -= 1\n",
    "            return current  # Returns the current value before decrementing"
   ]
  },
  {
   "cell_type": "code",
   "execution_count": 2,
   "metadata": {},
   "outputs": [
    {
     "name": "stdout",
     "output_type": "stream",
     "text": [
      "5\n",
      "4\n",
      "3\n",
      "2\n",
      "1\n",
      "0\n"
     ]
    }
   ],
   "source": [
    "for i in Countdown(5):\n",
    "    print(i)"
   ]
  },
  {
   "cell_type": "markdown",
   "metadata": {},
   "source": [
    "### What will happen if we dont use `__iter__`"
   ]
  },
  {
   "cell_type": "code",
   "execution_count": 7,
   "metadata": {},
   "outputs": [],
   "source": [
    "class Countdown2:\n",
    "    def __init__(self, start) -> None:\n",
    "        self.start = start  # Store the initial start value\n",
    "        self.current = start  # Initialize current to start\n",
    "    \n",
    "    def __next__(self):\n",
    "        if self.current < 0:\n",
    "            raise StopIteration  # Signals the end of iteration\n",
    "        else:\n",
    "            current = self.current\n",
    "            self.current -= 1\n",
    "            return current  # Returns the current value before decrementing2"
   ]
  },
  {
   "cell_type": "code",
   "execution_count": 8,
   "metadata": {},
   "outputs": [
    {
     "name": "stdout",
     "output_type": "stream",
     "text": [
      "10\n",
      "9\n",
      "8\n",
      "7\n",
      "6\n",
      "5\n",
      "4\n",
      "3\n",
      "2\n",
      "1\n",
      "0\n",
      "Exhausted the values for iteration\n"
     ]
    }
   ],
   "source": [
    "# Create a countdown starting from 3\n",
    "countdown = Countdown2(10)\n",
    "\n",
    "# Try to iterate through the countdown and handle StopIteration\n",
    "try:\n",
    "    while True:\n",
    "        print(next(countdown))\n",
    "except StopIteration:\n",
    "    print(\"Exhausted the values for iteration\")\n",
    "    pass"
   ]
  },
  {
   "cell_type": "markdown",
   "metadata": {},
   "source": [
    "# Assignment 2: Custom Iterable Class"
   ]
  },
  {
   "cell_type": "code",
   "execution_count": 20,
   "metadata": {},
   "outputs": [
    {
     "name": "stdout",
     "output_type": "stream",
     "text": [
      "0\n",
      "4\n",
      "8\n",
      "12\n",
      "16\n",
      "20\n"
     ]
    }
   ],
   "source": [
    "class Range:\n",
    "    def __init__(self, end,start = 0, step = 1) -> None:\n",
    "        self.start = start\n",
    "        self.end = end\n",
    "        self.step = step\n",
    "    \n",
    "    def __iter__(self):\n",
    "        return self\n",
    "\n",
    "    def __next__(self):\n",
    "        if self.start >= self.end:\n",
    "            raise StopIteration\n",
    "        else: # self.start < self.end\n",
    "            current = self.start\n",
    "            self.start += self.step\n",
    "            return current\n",
    "        \n",
    "range_custom = Range(end = 21, step = 4)\n",
    "\n",
    "for i in range_custom:\n",
    "    print(i)"
   ]
  },
  {
   "cell_type": "markdown",
   "metadata": {},
   "source": [
    "# Assignment 3: Generator Function"
   ]
  },
  {
   "cell_type": "code",
   "execution_count": 88,
   "metadata": {},
   "outputs": [],
   "source": [
    "fib_range = Range\n",
    "def fibonacci(n):\n",
    "    a = 0\n",
    "    b = 1\n",
    "    for _ in fib_range(n):\n",
    "        yield a\n",
    "        a, b = b, a + b"
   ]
  },
  {
   "cell_type": "code",
   "execution_count": 89,
   "metadata": {},
   "outputs": [
    {
     "name": "stdout",
     "output_type": "stream",
     "text": [
      "0\n",
      "1\n",
      "1\n",
      "2\n",
      "3\n",
      "5\n",
      "8\n"
     ]
    }
   ],
   "source": [
    "for num in fibonacci(7):\n",
    "    print(num)"
   ]
  },
  {
   "cell_type": "markdown",
   "metadata": {},
   "source": [
    "# Assignment 4: Generator Expression"
   ]
  },
  {
   "cell_type": "code",
   "execution_count": 95,
   "metadata": {},
   "outputs": [],
   "source": [
    "squares = (x*x for x in range(1,11))"
   ]
  },
  {
   "cell_type": "code",
   "execution_count": 96,
   "metadata": {},
   "outputs": [
    {
     "name": "stdout",
     "output_type": "stream",
     "text": [
      "1\n",
      "4\n",
      "9\n",
      "16\n",
      "25\n",
      "36\n",
      "49\n",
      "64\n",
      "81\n",
      "100\n"
     ]
    }
   ],
   "source": [
    "for i in squares:\n",
    "    print(i)"
   ]
  },
  {
   "cell_type": "markdown",
   "metadata": {},
   "source": [
    "# Assignment 5: Chaining Generators"
   ]
  },
  {
   "cell_type": "code",
   "execution_count": 119,
   "metadata": {},
   "outputs": [],
   "source": [
    "even_num = (x for x in range(0, 20) if x%2 == 0)"
   ]
  },
  {
   "cell_type": "code",
   "execution_count": 120,
   "metadata": {},
   "outputs": [],
   "source": [
    "squares_even = (x**2 for x in even_num)"
   ]
  },
  {
   "cell_type": "code",
   "execution_count": 121,
   "metadata": {},
   "outputs": [
    {
     "name": "stdout",
     "output_type": "stream",
     "text": [
      "0\n",
      "4\n",
      "16\n",
      "36\n",
      "64\n",
      "100\n",
      "144\n",
      "196\n",
      "256\n",
      "324\n"
     ]
    }
   ],
   "source": [
    "for i in squares_even:\n",
    "    print(i)"
   ]
  },
  {
   "cell_type": "markdown",
   "metadata": {},
   "source": [
    "# Assignment 6: Simple Decorator"
   ]
  },
  {
   "cell_type": "code",
   "execution_count": 11,
   "metadata": {},
   "outputs": [
    {
     "name": "stdout",
     "output_type": "stream",
     "text": [
      "The factorial ran for 3.000922203063965 time\n"
     ]
    },
    {
     "data": {
      "text/plain": [
       "1"
      ]
     },
     "execution_count": 11,
     "metadata": {},
     "output_type": "execute_result"
    }
   ],
   "source": [
    "import time\n",
    "\n",
    "def timer(func):\n",
    "    def wrapper(*args, **kwargs):\n",
    "        start = time.time()\n",
    "        result = func(*args, **kwargs)\n",
    "        end = time.time()\n",
    "        print(f\"The {func.__name__} ran for {end - start} time\")\n",
    "        return result\n",
    "    return wrapper\n",
    "\n",
    "@timer\n",
    "def factorial(n):\n",
    "    if n == 0:\n",
    "        return 1\n",
    "    else:\n",
    "        time.sleep(3)\n",
    "        fac = n\n",
    "        for i in range(1, n):\n",
    "            fac = fac * i\n",
    "        return fac\n",
    "\n",
    "factorial(1)\n",
    "\n"
   ]
  },
  {
   "cell_type": "markdown",
   "metadata": {},
   "source": [
    "# Assignment 7: Decorator with Arguments"
   ]
  },
  {
   "cell_type": "code",
   "execution_count": 12,
   "metadata": {},
   "outputs": [
    {
     "name": "stdout",
     "output_type": "stream",
     "text": [
      "Hello, World!\n",
      "Hello, World!\n",
      "Hello, World!\n"
     ]
    }
   ],
   "source": [
    "def repeat(n):\n",
    "    def decorator(func):\n",
    "        def wrapper(*args, **kwargs):\n",
    "            for _ in range(n):\n",
    "                func(*args, **kwargs)\n",
    "        return wrapper\n",
    "    return decorator\n",
    "\n",
    "@repeat(3)\n",
    "def print_message(message):\n",
    "    print(message)\n",
    "\n",
    "# Test\n",
    "print_message(\"Hello, World!\")"
   ]
  },
  {
   "cell_type": "markdown",
   "metadata": {},
   "source": [
    "# Assignment 8: Nested Decorators"
   ]
  },
  {
   "cell_type": "code",
   "execution_count": 9,
   "metadata": {},
   "outputs": [
    {
     "data": {
      "text/plain": [
       "'HI!'"
      ]
     },
     "execution_count": 9,
     "metadata": {},
     "output_type": "execute_result"
    }
   ],
   "source": [
    "def upper(func):\n",
    "    def wrapper(*args, **kwargs):\n",
    "        result = func(*args, **kwargs)\n",
    "        return result.upper()\n",
    "    return wrapper\n",
    "\n",
    "\n",
    "\n",
    "def exclaim(func):\n",
    "    def wrapper(*args, **kwargs):\n",
    "        result = func(*args, **kwargs)\n",
    "        return result + \"!\"\n",
    "    return wrapper\n",
    "\n",
    "@upper\n",
    "@exclaim\n",
    "def greetings(greet):\n",
    "    return greet\n",
    "\n",
    "# Testing \n",
    "greet = input(\"Say Greetings\")\n",
    "greetings(greet)\n",
    "        "
   ]
  },
  {
   "cell_type": "markdown",
   "metadata": {},
   "source": [
    "# Assignment 9: Class Decorator"
   ]
  },
  {
   "cell_type": "code",
   "execution_count": 12,
   "metadata": {},
   "outputs": [
    {
     "name": "stdout",
     "output_type": "stream",
     "text": [
      "Database connection created\n",
      "Database connection created\n",
      "True\n",
      "False\n"
     ]
    }
   ],
   "source": [
    "def singleton(cls):\n",
    "    instances = {}\n",
    "    def get_instance(*args, **kwargs):\n",
    "        if cls not in instances:\n",
    "            instances[cls] = cls(*args, **kwargs)\n",
    "        return instances[cls]\n",
    "    return get_instance\n",
    "\n",
    "@singleton\n",
    "class DatabaseConnection:\n",
    "    def __init__(self):\n",
    "        print(\"Database connection created\")\n",
    "\n",
    "@singleton        \n",
    "class DatabaseConnectionTest:\n",
    "    def __init__(self):\n",
    "        print(\"Database connection created\")\n",
    "\n",
    "# Test\n",
    "db1 = DatabaseConnection()\n",
    "db2 = DatabaseConnection()\n",
    "db3 = DatabaseConnectionTest()\n",
    "print(db1 is db2)  # True\n",
    "print(db2 is db3)  # False"
   ]
  },
  {
   "cell_type": "markdown",
   "metadata": {},
   "source": [
    "# Assignment 10: Iterator Protocol with Decorators"
   ]
  },
  {
   "cell_type": "code",
   "execution_count": 45,
   "metadata": {},
   "outputs": [
    {
     "name": "stdout",
     "output_type": "stream",
     "text": [
      "!\n",
      "!\n",
      "!\n",
      "O\n",
      "L\n",
      "L\n",
      "E\n",
      "H\n"
     ]
    }
   ],
   "source": [
    "def uppercase(cls):\n",
    "    class Wrapped(cls):\n",
    "        def __init__(self, *args, **kwargs):\n",
    "            super().__init__(*args, **kwargs)\n",
    "            self.string = self.string.upper()\n",
    "    return Wrapped\n",
    "\n",
    "def exclaimclass(cls):\n",
    "    class Wrapped(cls):\n",
    "        def __init__(self, *args, **kwargs):\n",
    "            super().__init__(*args, **kwargs)\n",
    "            self.string += \"!!!\"  # Add \"!!!\" to the string\n",
    "            self.index = len(self.string)  # Update the index based on the new string length\n",
    "    return Wrapped\n",
    "\n",
    "@uppercase\n",
    "@exclaimclass\n",
    "class ReverseString:\n",
    "    def __init__(self, string) -> None:\n",
    "        self.string = string\n",
    "        self.index = len(string)\n",
    "    \n",
    "    def __iter__(self):\n",
    "        return self\n",
    "    \n",
    "    def __next__(self):\n",
    "        if self.index <= 0:\n",
    "            raise StopIteration\n",
    "        self.index -= 1\n",
    "        return self.string[self.index]\n",
    "\n",
    "for i in ReverseString(\"Hello\"):\n",
    "    print(i)\n"
   ]
  },
  {
   "cell_type": "markdown",
   "metadata": {},
   "source": [
    "# Assignment 11: Stateful Generators"
   ]
  },
  {
   "cell_type": "code",
   "execution_count": 58,
   "metadata": {},
   "outputs": [
    {
     "name": "stdout",
     "output_type": "stream",
     "text": [
      "0\n",
      "1\n",
      "2\n",
      "3\n",
      "4\n",
      "5\n",
      "6\n",
      "7\n",
      "8\n",
      "9\n"
     ]
    }
   ],
   "source": [
    "def counter(start):\n",
    "    counter = start\n",
    "    while True:\n",
    "        yield counter\n",
    "        counter += 1\n",
    "\n",
    "count = counter(0)\n",
    "for _ in range(10):\n",
    "    print(next(count))"
   ]
  },
  {
   "cell_type": "code",
   "execution_count": 62,
   "metadata": {},
   "outputs": [
    {
     "name": "stdout",
     "output_type": "stream",
     "text": [
      "13\n"
     ]
    }
   ],
   "source": [
    "print(next(count))"
   ]
  },
  {
   "cell_type": "markdown",
   "metadata": {},
   "source": [
    "# Assignment 12: Generator with Exception Handling"
   ]
  },
  {
   "cell_type": "code",
   "execution_count": 186,
   "metadata": {},
   "outputs": [],
   "source": [
    "def safe_divide(quotient, divisor):\n",
    "    for num in quotient:\n",
    "        try:\n",
    "            yield num / divisor\n",
    "        except ZeroDivisionError:\n",
    "            yield \"Error: Division by zero\"\n",
    "    \n",
    "\n",
    "result = safe_divide([1,2,3,4,5],1)\n"
   ]
  },
  {
   "cell_type": "code",
   "execution_count": 193,
   "metadata": {},
   "outputs": [
    {
     "name": "stdout",
     "output_type": "stream",
     "text": [
      "List is exhausted\n"
     ]
    }
   ],
   "source": [
    "try:\n",
    "    print(next(result))\n",
    "except StopIteration:\n",
    "    print(\"List is exhausted\")"
   ]
  },
  {
   "cell_type": "markdown",
   "metadata": {},
   "source": [
    "# Assignment 13: Context Manager Decorator"
   ]
  },
  {
   "cell_type": "code",
   "execution_count": 198,
   "metadata": {},
   "outputs": [],
   "source": [
    "def open_file(file_name, mode):\n",
    "    def decorator(func):\n",
    "        def wrapper(*args, **kwargs):\n",
    "            with open(file_name, mode) as file:\n",
    "                return func(file, *args, **kwargs)\n",
    "        return wrapper\n",
    "    return decorator\n",
    "\n",
    "\n",
    "@open_file(\"Sample_text.txt\", \"a\")\n",
    "def write_to_file(file, text):\n",
    "    file.write(text)\n",
    "\n",
    "\n",
    "write_to_file(\"\\nShree Ram Jai Ram Jai Jai Ram\") "
   ]
  },
  {
   "cell_type": "markdown",
   "metadata": {},
   "source": [
    "# Assignment 14: Infinite Iterator"
   ]
  },
  {
   "cell_type": "code",
   "execution_count": 199,
   "metadata": {},
   "outputs": [],
   "source": [
    "class InfiniteCounter:\n",
    "    def __init__(self, start) -> None:\n",
    "        self.start = start\n",
    "    \n",
    "    def __iter__(self):\n",
    "        return self\n",
    "\n",
    "    def __next__(self):\n",
    "        current = self.start\n",
    "        self.start += 1\n",
    "        return current\n",
    "    \n",
    "\n",
    "counting = InfiniteCounter(1)"
   ]
  },
  {
   "cell_type": "markdown",
   "metadata": {},
   "source": [
    "keep om executing the below code the count will keep on increasing"
   ]
  },
  {
   "cell_type": "code",
   "execution_count": 220,
   "metadata": {},
   "outputs": [
    {
     "name": "stdout",
     "output_type": "stream",
     "text": [
      "21\n"
     ]
    }
   ],
   "source": [
    "print(next(counting))"
   ]
  },
  {
   "cell_type": "markdown",
   "metadata": {},
   "source": [
    "# Assignment 15: Generator Pipeline"
   ]
  },
  {
   "cell_type": "code",
   "execution_count": 221,
   "metadata": {},
   "outputs": [
    {
     "name": "stdout",
     "output_type": "stream",
     "text": [
      "-2\n",
      "-4\n",
      "-6\n",
      "-8\n",
      "-10\n",
      "-12\n",
      "-14\n",
      "-16\n",
      "-18\n",
      "-20\n"
     ]
    }
   ],
   "source": [
    "def integers():\n",
    "    for i in range(1, 11):\n",
    "        yield i\n",
    "\n",
    "def doubles(numbers):\n",
    "    for number in numbers:\n",
    "        yield number * 2\n",
    "\n",
    "def negatives(numbers):\n",
    "    for number in numbers:\n",
    "        yield -number\n",
    "\n",
    "# Test\n",
    "int_gen = integers()\n",
    "double_gen = doubles(int_gen)\n",
    "negative_gen = negatives(double_gen)\n",
    "for value in negative_gen:\n",
    "    print(value)"
   ]
  }
 ],
 "metadata": {
  "kernelspec": {
   "display_name": "Python 3",
   "language": "python",
   "name": "python3"
  },
  "language_info": {
   "codemirror_mode": {
    "name": "ipython",
    "version": 3
   },
   "file_extension": ".py",
   "mimetype": "text/x-python",
   "name": "python",
   "nbconvert_exporter": "python",
   "pygments_lexer": "ipython3",
   "version": "3.12.2"
  }
 },
 "nbformat": 4,
 "nbformat_minor": 2
}
