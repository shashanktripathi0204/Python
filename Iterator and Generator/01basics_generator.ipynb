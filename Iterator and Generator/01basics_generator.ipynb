{
 "cells": [
  {
   "cell_type": "markdown",
   "metadata": {},
   "source": [
    "## Generator are simple way to create iterators. They use the yield keyword to produce a series of values lazily which means they generate values on the fly and do not store them in the memory."
   ]
  },
  {
   "cell_type": "code",
   "execution_count": 1,
   "metadata": {},
   "outputs": [],
   "source": [
    "def square(n):\n",
    "    for i in range(n):\n",
    "        yield i**2;"
   ]
  },
  {
   "cell_type": "code",
   "execution_count": 2,
   "metadata": {},
   "outputs": [
    {
     "name": "stdout",
     "output_type": "stream",
     "text": [
      "0\n",
      "1\n",
      "4\n",
      "9\n"
     ]
    }
   ],
   "source": [
    "for i in square(4):\n",
    "    print(i)"
   ]
  },
  {
   "cell_type": "markdown",
   "metadata": {},
   "source": [
    "## Generator are uisefull for reading large files because they allow us to process one line at a time without loading the entire file into the memory "
   ]
  },
  {
   "cell_type": "code",
   "execution_count": 4,
   "metadata": {},
   "outputs": [],
   "source": [
    "def read_large_file(file_path):\n",
    "    with open(file_path) as file:\n",
    "        for line in file:\n",
    "            yield line"
   ]
  },
  {
   "cell_type": "code",
   "execution_count": 5,
   "metadata": {},
   "outputs": [
    {
     "name": "stdout",
     "output_type": "stream",
     "text": [
      "Humans have long wondered why we sleep. A well-rested prehistoric mind probably pondered the question, long before Galileo thought to predict the period of the pendulum or to understand how fast objects fall. Why must we put ourselves into this potentially endangering state, one that consumes about a third of our adult lives and even more of our childhood? And we donâ€™t do it grudgingly â€“ why do we, along with dogs, lions and virtually every other animal, apparently enjoy it? Unlike measuring the period of the pendulum, scientists would have to wait much longer to obtain reliable answers, since itâ€™s not so easy to sleep while strangers watch. Doing so involves building sleep disorder clinics for humans and elaborate structures such as platypusariums to observe the REM (rapid eye movement) repose of platypuses.\n",
      "\n",
      "\n",
      "\n",
      "Over the past few decades, huge amounts of data about the duration of sleep states have been gathered across species, as well as from birth to adulthood in humans. These findings have also been tallied with potential correlates such as melatonin, brain size, metabolic rate, lifespan, and sleep-promoting genes and neurons. Even so, until very recently weâ€™ve lacked a quantitative theory that can predict, for example, why mice sleep roughly 10 times more per day than whales; why baby humans sleep roughly twice as long as adults; why REM and total sleep times change much faster as a baby grows in size than they do with similar size differences across species; and why temperature affects sleep times in cold-blooded animals such as fruit flies. Although great progress has been made in developing sophisticated models and explaining phenomena such as circadian rhythms, jetlag and details of EEG recordings of the sleeping brain, these advances are belied by the difficulty of developing a general quantitative theory for why we sleep.\n",
      "\n",
      "\n",
      "\n",
      "Our work has started to fill this gap. Armed with a new, mathematical approach to the question of why we sleep, our framework leads to entirely new ways of understanding sleep data and responding to its basic questions. Many earlier studies might have foundered because they were more preoccupied with cataloguing the myriad aspects and properties of sleep, rather than pinning down what it was for. By contrast, the regular patterns predicted by our equations, and supported by empirical data, flow from our focus on determining the primary function of sleep. Equipped with insights into the role of the metabolism and the special status of the brain, weâ€™ve discovered an abrupt and surprising shift in the function of sleep from infancy to adulthood, and expected across much of the animal kingdom â€“ a phase transition as swift as water freezing to become ice.\n"
     ]
    }
   ],
   "source": [
    "for i in read_large_file('large_file.txt'):\n",
    "    print(i)"
   ]
  },
  {
   "cell_type": "code",
   "execution_count": null,
   "metadata": {},
   "outputs": [],
   "source": []
  },
  {
   "cell_type": "code",
   "execution_count": null,
   "metadata": {},
   "outputs": [],
   "source": []
  }
 ],
 "metadata": {
  "kernelspec": {
   "display_name": "Python 3",
   "language": "python",
   "name": "python3"
  },
  "language_info": {
   "codemirror_mode": {
    "name": "ipython",
    "version": 3
   },
   "file_extension": ".py",
   "mimetype": "text/x-python",
   "name": "python",
   "nbconvert_exporter": "python",
   "pygments_lexer": "ipython3",
   "version": "3.12.2"
  }
 },
 "nbformat": 4,
 "nbformat_minor": 2
}
